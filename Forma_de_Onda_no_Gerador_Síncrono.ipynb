{
  "nbformat": 4,
  "nbformat_minor": 0,
  "metadata": {
    "colab": {
      "name": "Forma de Onda no Gerador Síncrono.ipynb",
      "provenance": [],
      "collapsed_sections": [],
      "include_colab_link": true
    },
    "kernelspec": {
      "name": "python3",
      "display_name": "Python 3"
    }
  },
  "cells": [
    {
      "cell_type": "markdown",
      "metadata": {
        "id": "view-in-github",
        "colab_type": "text"
      },
      "source": [
        "<a href=\"https://colab.research.google.com/github/jonnes-nascimento/maqacel/blob/master/Forma_de_Onda_no_Gerador_S%C3%ADncrono.ipynb\" target=\"_parent\"><img src=\"https://colab.research.google.com/assets/colab-badge.svg\" alt=\"Open In Colab\"/></a>"
      ]
    },
    {
      "cell_type": "markdown",
      "metadata": {
        "id": "iETU03RmaczQ",
        "colab_type": "text"
      },
      "source": [
        "# **Análise harmônica da forma de onda - Gerador Síncrono**\n",
        "\n",
        "Como salvar notebook do Colab em html (pdf):\n",
        "https://torbjornzetterlund.com/how-to-save-a-google-colab-notebook-as-html/"
      ]
    },
    {
      "cell_type": "code",
      "metadata": {
        "id": "rgghyVt39E5h",
        "colab_type": "code",
        "colab": {}
      },
      "source": [
        "import pandas as pd\n",
        "import matplotlib.pyplot as plt\n",
        "import numpy as np\n",
        "from scipy.fftpack import fft"
      ],
      "execution_count": null,
      "outputs": []
    },
    {
      "cell_type": "markdown",
      "metadata": {
        "id": "kUj33GDAa0by",
        "colab_type": "text"
      },
      "source": [
        "***Carregando os dados do experimento:***"
      ]
    },
    {
      "cell_type": "code",
      "metadata": {
        "id": "L7QsHNCn9YHq",
        "colab_type": "code",
        "colab": {}
      },
      "source": [
        "dados = pd.read_csv(\"4.csv\", skiprows=1, names=['tempo','tensao'])\n",
        "\n",
        "x = dados['tempo']\n",
        "y = dados['tensao']\n",
        "\n",
        "num_samples = x.size\n",
        "\n",
        "min_x=x[0]\n",
        "max_x=x[x.size-1]\n",
        "\n",
        "time = np.linspace(min_x, max_x, num_samples, endpoint=True)"
      ],
      "execution_count": null,
      "outputs": []
    },
    {
      "cell_type": "markdown",
      "metadata": {
        "id": "kNjPqa6lauJl",
        "colab_type": "text"
      },
      "source": [
        "***Forma de onda obtida no experimento:***"
      ]
    },
    {
      "cell_type": "code",
      "metadata": {
        "id": "MN47H-AiEC_O",
        "colab_type": "code",
        "colab": {
          "base_uri": "https://localhost:8080/",
          "height": 295
        },
        "outputId": "19f3434a-0232-43e0-d6aa-240e3c0fc850"
      },
      "source": [
        "plt.title(\"Forma de onda no gerador sincrono\")\n",
        "plt.xlabel(\"tempo (s)\")\n",
        "plt.ylabel(\"tensao (V)\")\n",
        "\n",
        "plt.plot('tempo', 'tensao', data=dados)\n",
        "plt.grid()\n",
        "plt.show()"
      ],
      "execution_count": null,
      "outputs": [
        {
          "output_type": "display_data",
          "data": {
            "image/png": "[encoded data removed]",
            "text/plain": [
              "<Figure size 432x288 with 1 Axes>"
            ]
          },
          "metadata": {
            "tags": []
          }
        }
      ]
    },
    {
      "cell_type": "markdown",
      "metadata": {
        "id": "VStMsq5Ga5ig",
        "colab_type": "text"
      },
      "source": [
        "***Análise harmônica da forma de onda:***"
      ]
    },
    {
      "cell_type": "code",
      "metadata": {
        "id": "LDJ-UCtnTuyb",
        "colab_type": "code",
        "colab": {
          "base_uri": "https://localhost:8080/",
          "height": 404
        },
        "outputId": "51994c5b-da4f-4516-fb16-7d5bce821b6a"
      },
      "source": [
        "harm = fft(y, time.size)\n",
        "amp = abs(harm)\n",
        "freq = np.linspace(0.0, 1.0 /(2.0 *((max_x-min_x)/num_samples)), time.size//2)\n",
        "\n",
        "plt.figure(figsize=(13,6))\n",
        "plt.title(\"Analise harmonica\")\n",
        "plt.xlabel(\"frequencia (Hz)\")\n",
        "plt.ylabel(\"amplitude (V)\")\n",
        "plt.plot(freq, (2/amp.size)*amp[0:amp.size//2], linewidth = 1.5, color='RED')\n",
        "plt.tight_layout\n",
        "plt.grid()\n",
        "plt.show()"
      ],
      "execution_count": null,
      "outputs": [
        {
          "output_type": "display_data",
          "data": {
            "image/png": "[encoded data removed]",
            "text/plain": [
              "<Figure size 936x432 with 1 Axes>"
            ]
          },
          "metadata": {
            "tags": []
          }
        }
      ]
    },
    {
      "cell_type": "code",
      "metadata": {
        "id": "EKmOuNgLIwcW",
        "colab_type": "code",
        "colab": {
          "base_uri": "https://localhost:8080/",
          "height": 457
        },
        "outputId": "9790c282-a507-47e7-ce1b-109e0a416c9b"
      },
      "source": [
        "df = pd.DataFrame({\"freq(Hz)\":freq, \"amp(V)\":(2/amp.size)*amp[0:amp.size//2]})\n",
        "\n",
        "df_impares = df.iloc[1:-1:2]\n",
        "df_impares_25 = df_impares[:13]\n",
        "\n",
        "df_impares_25"
      ],
      "execution_count": null,
      "outputs": [
        {
          "output_type": "execute_result",
          "data": {
            "text/html": [
              "<div>\n",
              "<style scoped>\n",
              "    .dataframe tbody tr th:only-of-type {\n",
              "        vertical-align: middle;\n",
              "    }\n",
              "\n",
              "    .dataframe tbody tr th {\n",
              "        vertical-align: top;\n",
              "    }\n",
              "\n",
              "    .dataframe thead th {\n",
              "        text-align: right;\n",
              "    }\n",
              "</style>\n",
              "<table border=\"1\" class=\"dataframe\">\n",
              "  <thead>\n",
              "    <tr style=\"text-align: right;\">\n",
              "      <th></th>\n",
              "      <th>freq(Hz)</th>\n",
              "      <th>amp(V)</th>\n",
              "    </tr>\n",
              "  </thead>\n",
              "  <tbody>\n",
              "    <tr>\n",
              "      <th>1</th>\n",
              "      <td>59.876021</td>\n",
              "      <td>112.305209</td>\n",
              "    </tr>\n",
              "    <tr>\n",
              "      <th>3</th>\n",
              "      <td>179.628064</td>\n",
              "      <td>8.018598</td>\n",
              "    </tr>\n",
              "    <tr>\n",
              "      <th>5</th>\n",
              "      <td>299.380107</td>\n",
              "      <td>0.889877</td>\n",
              "    </tr>\n",
              "    <tr>\n",
              "      <th>7</th>\n",
              "      <td>419.132150</td>\n",
              "      <td>0.459385</td>\n",
              "    </tr>\n",
              "    <tr>\n",
              "      <th>9</th>\n",
              "      <td>538.884193</td>\n",
              "      <td>1.404137</td>\n",
              "    </tr>\n",
              "    <tr>\n",
              "      <th>11</th>\n",
              "      <td>658.636236</td>\n",
              "      <td>0.480998</td>\n",
              "    </tr>\n",
              "    <tr>\n",
              "      <th>13</th>\n",
              "      <td>778.388278</td>\n",
              "      <td>0.144220</td>\n",
              "    </tr>\n",
              "    <tr>\n",
              "      <th>15</th>\n",
              "      <td>898.140321</td>\n",
              "      <td>0.301301</td>\n",
              "    </tr>\n",
              "    <tr>\n",
              "      <th>17</th>\n",
              "      <td>1017.892364</td>\n",
              "      <td>0.351405</td>\n",
              "    </tr>\n",
              "    <tr>\n",
              "      <th>19</th>\n",
              "      <td>1137.644407</td>\n",
              "      <td>0.193768</td>\n",
              "    </tr>\n",
              "    <tr>\n",
              "      <th>21</th>\n",
              "      <td>1257.396450</td>\n",
              "      <td>0.113708</td>\n",
              "    </tr>\n",
              "    <tr>\n",
              "      <th>23</th>\n",
              "      <td>1377.148493</td>\n",
              "      <td>1.554813</td>\n",
              "    </tr>\n",
              "    <tr>\n",
              "      <th>25</th>\n",
              "      <td>1496.900535</td>\n",
              "      <td>2.535491</td>\n",
              "    </tr>\n",
              "  </tbody>\n",
              "</table>\n",
              "</div>"
            ],
            "text/plain": [
              "       freq(Hz)      amp(V)\n",
              "1     59.876021  112.305209\n",
              "3    179.628064    8.018598\n",
              "5    299.380107    0.889877\n",
              "7    419.132150    0.459385\n",
              "9    538.884193    1.404137\n",
              "11   658.636236    0.480998\n",
              "13   778.388278    0.144220\n",
              "15   898.140321    0.301301\n",
              "17  1017.892364    0.351405\n",
              "19  1137.644407    0.193768\n",
              "21  1257.396450    0.113708\n",
              "23  1377.148493    1.554813\n",
              "25  1496.900535    2.535491"
            ]
          },
          "metadata": {
            "tags": []
          },
          "execution_count": 90
        }
      ]
    },
    {
      "cell_type": "markdown",
      "metadata": {
        "id": "EiKJnVi8lVNJ",
        "colab_type": "text"
      },
      "source": [
        "***Cálculo do THD da forma de onda:***"
      ]
    },
    {
      "cell_type": "code",
      "metadata": {
        "id": "q4-bdh45lUZD",
        "colab_type": "code",
        "colab": {
          "base_uri": "https://localhost:8080/",
          "height": 34
        },
        "outputId": "ffe547cc-ddd3-4a67-8c1a-c12fae6fe45e"
      },
      "source": [
        "THD = np.sqrt(np.sum(np.power(df_impares_25['amp(V)'][1:13], 2))) / df_impares_25['amp(V)'][:1]\n",
        "\n",
        "print('THD: %.2f%%' % (THD*100))"
      ],
      "execution_count": null,
      "outputs": [
        {
          "output_type": "stream",
          "text": [
            "THD: 7.79%\n"
          ],
          "name": "stdout"
        }
      ]
    }
  ]
}